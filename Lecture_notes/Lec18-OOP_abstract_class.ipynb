{
 "cells": [
  {
   "cell_type": "markdown",
   "metadata": {},
   "source": [
    "\n",
    "<a href=\"https://colab.research.google.com/github/kokchun/Python-course-AI22/blob/main/Lectures/Lec18-OOP_abstract_class.ipynb\" target=\"_parent\"><img align=\"left\" src=\"https://colab.research.google.com/assets/colab-badge.svg\" alt=\"Open In Colab\"/></a> &nbsp; for interacting with the code"
   ]
  },
  {
   "cell_type": "markdown",
   "metadata": {},
   "source": [
    "---\n",
    "# Lecture notes - OOP abstract class\n",
    "\n",
    "---\n",
    "This is the lecture note for **OOP abstract class** - but it's built upon contents from previous lectures such as: \n",
    "- input-output\n",
    "- variables\n",
    "- if-statement\n",
    "- for loop\n",
    "- while \n",
    "- lists\n",
    "- random\n",
    "- strings\n",
    "- functions\n",
    "- error handling\n",
    "- file handling\n",
    "- dictionary\n",
    "- OOP\n",
    "\n",
    "<p class = \"alert alert-info\" role=\"alert\"><b>Note</b> that this lecture note gives some introduction to OOP abstract classes.\n",
    "\n",
    "\n",
    "Read more \n",
    "- [abstract base class - Markovic P. teclado](https://blog.teclado.com/python-abc-abstract-base-classes/)\n",
    "\n",
    "---"
   ]
  },
  {
   "cell_type": "markdown",
   "metadata": {},
   "source": [
    "## Example problem\n",
    "\n",
    "Many developers may implement similar classes in different ways\n",
    "- issue when similar method has different names \n",
    "- this makes it harder to e.g. iterate over different classes and utilise polymorphism"
   ]
  },
  {
   "cell_type": "code",
   "execution_count": 3,
   "metadata": {},
   "outputs": [
    {
     "ename": "AttributeError",
     "evalue": "'VenusFlyTrap' object has no attribute 'photosynthesis'",
     "output_type": "error",
     "traceback": [
      "\u001b[0;31m---------------------------------------------------------------------------\u001b[0m",
      "\u001b[0;31mAttributeError\u001b[0m                            Traceback (most recent call last)",
      "\u001b[1;32m/Users/kokchungiang/Documents/Explorations/Python-exploration/Lec_notes/Lec18-OOP_abstract_class.ipynb Cell 4\u001b[0m in \u001b[0;36m<cell line: 15>\u001b[0;34m()\u001b[0m\n\u001b[1;32m     <a href='vscode-notebook-cell:/Users/kokchungiang/Documents/Explorations/Python-exploration/Lec_notes/Lec18-OOP_abstract_class.ipynb#W3sZmlsZQ%3D%3D?line=12'>13</a>\u001b[0m plants \u001b[39m=\u001b[39m (VenusFlyTrap(), Monstera(), MoneyPlant())\n\u001b[1;32m     <a href='vscode-notebook-cell:/Users/kokchungiang/Documents/Explorations/Python-exploration/Lec_notes/Lec18-OOP_abstract_class.ipynb#W3sZmlsZQ%3D%3D?line=14'>15</a>\u001b[0m \u001b[39mfor\u001b[39;00m plant \u001b[39min\u001b[39;00m plants: \n\u001b[0;32m---> <a href='vscode-notebook-cell:/Users/kokchungiang/Documents/Explorations/Python-exploration/Lec_notes/Lec18-OOP_abstract_class.ipynb#W3sZmlsZQ%3D%3D?line=15'>16</a>\u001b[0m     plant\u001b[39m.\u001b[39;49mphotosynthesis()\n",
      "\u001b[0;31mAttributeError\u001b[0m: 'VenusFlyTrap' object has no attribute 'photosynthesis'"
     ]
    }
   ],
   "source": [
    "class VenusFlyTrap: \n",
    "    def venus_photosynthesis(self):\n",
    "        print(\"Fly trap does photosynthesis\")\n",
    "\n",
    "    \n",
    "class Monstera: \n",
    "    def monstera_photosynthesis(self):\n",
    "        print(\"Monstera does photosynthesis\")\n",
    "\n",
    "class MoneyPlant:\n",
    "    def photosynthesis(self):\n",
    "        print(\"Money plant photosynthesis\")\n",
    "\n",
    "plants = (VenusFlyTrap(), Monstera(), MoneyPlant())\n",
    "\n",
    "for plant in plants: \n",
    "    plant.photosynthesis()\n",
    "\n",
    "# here it would be good to have all these plants classes to implement photosynthesis and \n",
    "# not different variants of it stopping us from using polymorphism"
   ]
  },
  {
   "cell_type": "markdown",
   "metadata": {},
   "source": [
    "## `ABC abstract base class`\n",
    "\n",
    "A class that inherits from ABC can make a method abstract using the decorator abstractmethod. Once a method or property is abstract, the whole class becomes abstract and you can't instantiate directly from that class. All subclasses must implemenet all abstract methods/properties in order for it to be possible to instantiate object from that class. If at least one abstract method/property is not implemented the subclass is also an abstract class as it has inherited the abstract method/property.\n",
    "\n"
   ]
  },
  {
   "cell_type": "code",
   "execution_count": 9,
   "metadata": {},
   "outputs": [
    {
     "ename": "TypeError",
     "evalue": "Can't instantiate abstract class VenusFlyTrap with abstract method photosynthesis",
     "output_type": "error",
     "traceback": [
      "\u001b[0;31m---------------------------------------------------------------------------\u001b[0m",
      "\u001b[0;31mTypeError\u001b[0m                                 Traceback (most recent call last)",
      "\u001b[1;32m/Users/kokchungiang/Documents/Explorations/Python-exploration/Lec_notes/Lec18-OOP_abstract_class.ipynb Cell 6\u001b[0m in \u001b[0;36m<cell line: 22>\u001b[0;34m()\u001b[0m\n\u001b[1;32m     <a href='vscode-notebook-cell:/Users/kokchungiang/Documents/Explorations/Python-exploration/Lec_notes/Lec18-OOP_abstract_class.ipynb#X11sZmlsZQ%3D%3D?line=18'>19</a>\u001b[0m         \u001b[39mprint\u001b[39m(\u001b[39m\"\u001b[39m\u001b[39mMoney plant photosynthesis\u001b[39m\u001b[39m\"\u001b[39m)\n\u001b[1;32m     <a href='vscode-notebook-cell:/Users/kokchungiang/Documents/Explorations/Python-exploration/Lec_notes/Lec18-OOP_abstract_class.ipynb#X11sZmlsZQ%3D%3D?line=20'>21</a>\u001b[0m monsteru \u001b[39m=\u001b[39m Monstera()\n\u001b[0;32m---> <a href='vscode-notebook-cell:/Users/kokchungiang/Documents/Explorations/Python-exploration/Lec_notes/Lec18-OOP_abstract_class.ipynb#X11sZmlsZQ%3D%3D?line=21'>22</a>\u001b[0m VenusFlyTrap()\n",
      "\u001b[0;31mTypeError\u001b[0m: Can't instantiate abstract class VenusFlyTrap with abstract method photosynthesis"
     ]
    }
   ],
   "source": [
    "from abc import abstractmethod, ABC\n",
    "\n",
    "class Plant(ABC):\n",
    "    @abstractmethod\n",
    "    def photosynthesis(self):\n",
    "        pass\n",
    "\n",
    "class VenusFlyTrap(Plant): \n",
    "    def do_photosynthesis(self):\n",
    "        print(\"Fly trap does photosynthesis\")\n",
    "    \n",
    "class Monstera(Plant): \n",
    "    def photosynthesis(self):\n",
    "        print(\"Monstera does photosynthesis\")\n",
    "\n",
    "\n",
    "class MoneyPlant(Plant):\n",
    "    def photosynthesis(self):\n",
    "        print(\"Money plant photosynthesis\")\n",
    "\n",
    "monsteru = Monstera()\n",
    "\n",
    "# we see that we can't instantiate VenusFlyTrap as it is an abstract class \n",
    "VenusFlyTrap()\n",
    "        "
   ]
  },
  {
   "cell_type": "code",
   "execution_count": 10,
   "metadata": {},
   "outputs": [
    {
     "name": "stdout",
     "output_type": "stream",
     "text": [
      "Monstera does photosynthesis\n",
      "Fly trap does photosynthesis\n",
      "Money plant photosynthesis\n"
     ]
    }
   ],
   "source": [
    "from abc import abstractmethod, ABC\n",
    "\n",
    "class Plant(ABC):\n",
    "    @abstractmethod\n",
    "    def photosynthesis(self):\n",
    "        pass\n",
    "\n",
    "class VenusFlyTrap(Plant): \n",
    "    def photosynthesis(self):\n",
    "        print(\"Fly trap does photosynthesis\")\n",
    "    \n",
    "class Monstera(Plant): \n",
    "    def photosynthesis(self):\n",
    "        print(\"Monstera does photosynthesis\")\n",
    "\n",
    "\n",
    "class MoneyPlant(Plant):\n",
    "    def photosynthesis(self):\n",
    "        print(\"Money plant photosynthesis\")\n",
    "\n",
    "# now all implement photosynthesis\n",
    "monsteru = Monstera()\n",
    "venusu = VenusFlyTrap()\n",
    "monet = MoneyPlant()\n",
    "\n",
    "for plant in (monsteru, venusu, monet):\n",
    "    plant.photosynthesis()"
   ]
  },
  {
   "cell_type": "markdown",
   "metadata": {},
   "source": [
    "---\n",
    "\n",
    "Kokchun Giang\n",
    "\n",
    "[LinkedIn][linkedIn_kokchun]\n",
    "\n",
    "[GitHub portfolio][github_portfolio]\n",
    "\n",
    "[linkedIn_kokchun]: https://www.linkedin.com/in/kokchungiang/\n",
    "[github_portfolio]: https://github.com/kokchun/Portfolio-Kokchun-Giang\n",
    "\n",
    "---"
   ]
  }
 ],
 "metadata": {
  "kernelspec": {
   "display_name": "Python 3.9.9 ('Python-exploration-FPV8cjh_')",
   "language": "python",
   "name": "python3"
  },
  "language_info": {
   "codemirror_mode": {
    "name": "ipython",
    "version": 3
   },
   "file_extension": ".py",
   "mimetype": "text/x-python",
   "name": "python",
   "nbconvert_exporter": "python",
   "pygments_lexer": "ipython3",
   "version": "3.9.9"
  },
  "orig_nbformat": 4,
  "vscode": {
   "interpreter": {
    "hash": "2163858a1cb747571b479610ffa1da36240a523145d5162fffa1bc4aebda0e4e"
   }
  }
 },
 "nbformat": 4,
 "nbformat_minor": 2
}
