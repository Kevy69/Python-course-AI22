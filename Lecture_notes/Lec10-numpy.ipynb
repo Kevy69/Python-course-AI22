{
 "cells": [
  {
   "cell_type": "markdown",
   "metadata": {},
   "source": [
    "\n",
    "<a href=\"https://colab.research.google.com/github/kokchun/Python-course-AI22/blob/main/Lectures/Lec10-numpy.ipynb\" target=\"_parent\"><img align=\"left\" src=\"https://colab.research.google.com/assets/colab-badge.svg\" alt=\"Open In Colab\"/></a> &nbsp; for interacting with the code"
   ]
  },
  {
   "cell_type": "markdown",
   "metadata": {},
   "source": [
    "---\n",
    "# Lecture notes - numpy arrays\n",
    "\n",
    "---\n",
    "This is the lecture note for **numpy arrays**, but it's built upon contents from previous lectures such as: \n",
    "- input-output\n",
    "- variables\n",
    "- if-statement\n",
    "- for loop\n",
    "- random\n",
    "\n",
    "Numpy is a very important package for numerical computations in Python. It has a ndarrays for efficient arithmetic operations and tons of mathematical functionalities without loops.\n",
    "\n",
    "<p class = \"alert alert-info\" role=\"alert\"><b>Note</b> that this lecture note gives a brief introduction to lists. I encourage you to read further about lists, when there is some functionality that you need. If you haven't you need to install numpy using \n",
    "\n",
    "```py\n",
    "pipenv install numpy\n",
    "```\n",
    "\n",
    "Read more \n",
    "\n",
    "- [what is numpy - documentation](https://numpy.org/devdocs/user/whatisnumpy.html)\n",
    "- [numpy arrays - documentation](https://numpy.org/devdocs/user/basics.creation.html)\n",
    "\n",
    "---"
   ]
  },
  {
   "cell_type": "markdown",
   "metadata": {},
   "source": [
    "## Arrays (vector)\n",
    "\n",
    "Numpy arrays can't change size, after it's created. It is strongly typed, which means we can't change a value to a type that's different from its current data type. Numpy array is much more performant compared to lists. Also it is very well suited for performant mathematical operations. To master numpy and its power, one must know linear algebra, the concepts of vectors, matrices and different mathematical operations related to them. "
   ]
  },
  {
   "cell_type": "code",
   "execution_count": 1,
   "metadata": {},
   "outputs": [
    {
     "name": "stdout",
     "output_type": "stream",
     "text": [
      "vector1=array([2, 5, 1])\n",
      "vector1*2=array([ 4, 10,  2])\n",
      "[2, 5, 1, 2, 5, 1]\n",
      "vector2=array([1., 1., 1.])\n",
      "vector1+vector2=array([3., 6., 2.])\n",
      "vector2=array([ 1.,  1., 99.])\n",
      "vector1=array([1, 2, 5])\n",
      "vector1.sum()=8\n",
      "vector1.mean()=2.67\n"
     ]
    }
   ],
   "source": [
    "import numpy as np \n",
    "\n",
    "# creating an array from list, it is also a data structure for representing a mathematical vector\n",
    "vector1 = np.array([2,5,1])\n",
    "print(f\"{vector1=}\")\n",
    "# the multiplication performs element-wise \n",
    "print(f\"{vector1*2=}\") \n",
    "# note the difference in list\n",
    "print([2,5,1]*2)\n",
    "\n",
    "vector2 = np.ones(3)\n",
    "print(f\"{vector2=}\")\n",
    "print(f\"{vector1+vector2=}\")\n",
    "vector2[-1]=99\n",
    "print(f\"{vector2=}\")\n",
    "\n",
    "# sort\n",
    "vector1.sort()\n",
    "print(f\"{vector1=}\")\n",
    "\n",
    "# mathematical methods\n",
    "print(f\"{vector1.sum()=}\")\n",
    "print(f\"{vector1.mean()=:.2f}\")"
   ]
  },
  {
   "cell_type": "markdown",
   "metadata": {},
   "source": [
    "---\n",
    "## 2D array (matrix)"
   ]
  },
  {
   "cell_type": "code",
   "execution_count": 7,
   "metadata": {},
   "outputs": [
    {
     "name": "stdout",
     "output_type": "stream",
     "text": [
      "Matrix\n",
      "[[1 2 3]\n",
      " [4 5 6]]\n",
      "[[ 1  2  3]\n",
      " [ 4  5 55]]\n",
      "Slicing\n",
      "All rows in column 2: [2 5]\n",
      "[[ 3  2  1  6]\n",
      " [-1  4  5  9]\n",
      " [ 6  5  1  2]\n",
      " [ 7  3  1  2]]\n",
      "[[0. 0. 0. 0.]\n",
      " [0. 0. 0. 0.]\n",
      " [0. 0. 0. 0.]]\n"
     ]
    }
   ],
   "source": [
    "matrix1 = np.array([[1, 2, 3], [4, 5, 6]])\n",
    "\n",
    "print(\"Matrix\")\n",
    "print(matrix1)\n",
    "\n",
    "# indexing\n",
    "matrix1[1,2]=55\n",
    "\n",
    "print(matrix1)\n",
    "\n",
    "print(\"Slicing\")\n",
    "print(f\"All rows in column 2: {matrix1[:,1]}\") # slicing :\n",
    "\n",
    "# random integer matrix\n",
    "print(f\"{np.random.randint(-1,10, size=(4,4))}\")\n",
    "# zeros\n",
    "print(f\"{np.zeros(shape=(3,4))}\")"
   ]
  },
  {
   "cell_type": "markdown",
   "metadata": {},
   "source": [
    "---\n",
    "## Linspace\n",
    "\n",
    "- creates a vector between (start, end, number of values evenly spaced)\n",
    "- useful for creating graphs\n"
   ]
  },
  {
   "cell_type": "code",
   "execution_count": 4,
   "metadata": {},
   "outputs": [
    {
     "name": "stdout",
     "output_type": "stream",
     "text": [
      "[1.  1.5 2.  2.5 3.  3.5 4. ]\n",
      "x.shape=(50,)\n"
     ]
    },
    {
     "data": {
      "text/plain": [
       "Text(0.5, 1.0, '$f(x) = x^2$')"
      ]
     },
     "execution_count": 4,
     "metadata": {},
     "output_type": "execute_result"
    },
    {
     "data": {
      "image/png": "[encoded data removed]",
      "text/plain": [
       "<Figure size 432x288 with 1 Axes>"
      ]
     },
     "metadata": {},
     "output_type": "display_data"
    }
   ],
   "source": [
    "import matplotlib.pyplot as plt\n",
    "plt.style.use(\"seaborn-white\")\n",
    "\n",
    "print(f\"{np.linspace(1,4,7)}\")\n",
    "\n",
    "x = np.linspace(-5,5) # default gives 50 points\n",
    "print(f\"{x.shape=}\")\n",
    "\n",
    "f = lambda x: x**2+2\n",
    "\n",
    "plt.plot(x, f(x))\n",
    "plt.title(r\"$f(x) = x^2$\")"
   ]
  },
  {
   "cell_type": "markdown",
   "metadata": {},
   "source": [
    "---\n",
    "\n",
    "Kokchun Giang\n",
    "\n",
    "[LinkedIn][linkedIn_kokchun]\n",
    "\n",
    "[GitHub portfolio][github_portfolio]\n",
    "\n",
    "[linkedIn_kokchun]: https://www.linkedin.com/in/kokchungiang/\n",
    "[github_portfolio]: https://github.com/kokchun/Portfolio-Kokchun-Giang\n",
    "\n",
    "---"
   ]
  }
 ],
 "metadata": {
  "kernelspec": {
   "display_name": "Python 3.9.9 ('Python-exploration-FPV8cjh_')",
   "language": "python",
   "name": "python3"
  },
  "language_info": {
   "codemirror_mode": {
    "name": "ipython",
    "version": 3
   },
   "file_extension": ".py",
   "mimetype": "text/x-python",
   "name": "python",
   "nbconvert_exporter": "python",
   "pygments_lexer": "ipython3",
   "version": "3.9.9"
  },
  "orig_nbformat": 4,
  "vscode": {
   "interpreter": {
    "hash": "2163858a1cb747571b479610ffa1da36240a523145d5162fffa1bc4aebda0e4e"
   }
  }
 },
 "nbformat": 4,
 "nbformat_minor": 2
}
