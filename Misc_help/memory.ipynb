{
 "cells": [
  {
   "cell_type": "code",
   "execution_count": 1,
   "metadata": {},
   "outputs": [
    {
     "name": "stdout",
     "output_type": "stream",
     "text": [
      "id(l1) = 2372097993088\n",
      "id(l2) = 2372097993088\n",
      "\n",
      "Calling add_to_list() methods...\n",
      "\n",
      "id(l1) = 2372097993088\n",
      "id(l2) = 2372097993088\n",
      "l1 = [0, 1, 2]\n",
      "l2 = [0, 1, 2]\n"
     ]
    }
   ],
   "source": [
    "def add_to_list(l, x):\n",
    "    \"\"\"Adds x to list l, mutates\"\"\"\n",
    "    l += [x] # this changes (mutates) the value of the adress pointed to, because both lists point to the same adress, both lists are affected\n",
    "    return l\n",
    "\n",
    "l1 = [0]\n",
    "l2 = l1 # l1 and l2 shares the same pointer, pointing to memory location of [0]\n",
    "\n",
    "print(f\"{id(l1) = }\") # proof of pointing to same memory adress; id of l1 is the same as id of l2\n",
    "print(f\"{id(l2) = }\")\n",
    "\n",
    "print(\"\\nCalling add_to_list() methods...\\n\")\n",
    "l1 = add_to_list(l1, 1) # add 1 to l1\n",
    "l2 = add_to_list(l2, 2) # add 2 to l2\n",
    "\n",
    "print(f\"{id(l1) = }\") # l1 and l2 still point to the same adress\n",
    "print(f\"{id(l2) = }\")\n",
    "\n",
    "print(f\"{l1 = }\") # but the value at this adress has been altered\n",
    "print(f\"{l2 = }\")"
   ]
  },
  {
   "cell_type": "code",
   "execution_count": 2,
   "metadata": {},
   "outputs": [
    {
     "name": "stdout",
     "output_type": "stream",
     "text": [
      "id(l1) = 2372097992256\n",
      "id(l2) = 2372097992256\n",
      "\n",
      "Calling add_to_list() methods...\n",
      "\n",
      "id(l1) = 2372094312576\n",
      "id(l2) = 2372097993728\n",
      "l1 = [0, 1]\n",
      "l2 = [0, 2]\n"
     ]
    }
   ],
   "source": [
    "def add_to_list(l, x):\n",
    "    \"\"\"Adds x to list, does not mutate\"\"\"\n",
    "    return l + [x] # returns new list with value l + [x], which has a different pointer from the original one (same as: new_l = l + [x], return new_l)\n",
    "\n",
    "l1 = [0]\n",
    "l2 = l1 # l1 and l2 shares the same pointer, pointing to memory location of [0]\n",
    "\n",
    "print(f\"{id(l1) = }\") # proof of pointing to same memory adress; id of l1 is the same as id of l2\n",
    "print(f\"{id(l2) = }\")\n",
    "\n",
    "print(\"\\nCalling add_to_list() methods...\\n\")\n",
    "l1 = add_to_list(l1, 1) # add 1 to l1\n",
    "l2 = add_to_list(l2, 2) # add 2 to l2\n",
    "\n",
    "print(f\"{id(l1) = }\") # l1 and l2 does NOT point to the same adress\n",
    "print(f\"{id(l2) = }\") # this is because add_to_list returned a NEW list rather than the same list changed\n",
    "\n",
    "print(f\"{l1 = }\")\n",
    "print(f\"{l2 = }\")"
   ]
  },
  {
   "cell_type": "code",
   "execution_count": 3,
   "metadata": {},
   "outputs": [
    {
     "name": "stdout",
     "output_type": "stream",
     "text": [
      "id(l1) = 2372097991680\n",
      "id(l2) = 2372097981952\n",
      "id(l3) = 2372094312576\n",
      "l1 = [1, 2, 3]\n",
      "l2 = [1, 2, 3, 4]\n",
      "l3 = [1, 2, 3, 4]\n"
     ]
    }
   ],
   "source": [
    "def add_to_list(l, x):\n",
    "    \"\"\"Adds x to list, does not mutate\"\"\"\n",
    "    return l + [x] # returns new list with value l + [x], which has a different pointer from the original one (same as: new_l = l + [x], return new_l)\n",
    "\n",
    "l1 = [1, 2, 3]\n",
    "l2 = add_to_list(l1, 4) # l2 points to a NEW list, containing the value of l1 + [4]\n",
    "l3 = add_to_list(l1, 4) # l3 points to a NEW list, containing the value of l1 + [4]\n",
    "\n",
    "print(f\"{id(l1) = }\") # pointing to different memory adress; id of l1, l2, and l3 are not the same\n",
    "print(f\"{id(l2) = }\")\n",
    "print(f\"{id(l3) = }\")\n",
    "\n",
    "print(f\"{l1 = }\") # this is because add_to_list returned a NEW list rather than the same list changed\n",
    "print(f\"{l2 = }\") # even though l2 and l3 have the same values, lists point to different adresses, this behaviour is different in different datatypes\n",
    "print(f\"{l3 = }\") # (for example integers and short strings which we tested in class point to the same adress even with different pointers)"
   ]
  }
 ],
 "metadata": {
  "kernelspec": {
   "display_name": "Python 3.9.6 ('Python-course-AI22-FPwBLMbm')",
   "language": "python",
   "name": "python3"
  },
  "language_info": {
   "codemirror_mode": {
    "name": "ipython",
    "version": 3
   },
   "file_extension": ".py",
   "mimetype": "text/x-python",
   "name": "python",
   "nbconvert_exporter": "python",
   "pygments_lexer": "ipython3",
   "version": "3.9.6"
  },
  "orig_nbformat": 4,
  "vscode": {
   "interpreter": {
    "hash": "3b136723b0d4708e16bf623335cc8688085bd3f1313316a001291a7f1d2024db"
   }
  }
 },
 "nbformat": 4,
 "nbformat_minor": 2
}
