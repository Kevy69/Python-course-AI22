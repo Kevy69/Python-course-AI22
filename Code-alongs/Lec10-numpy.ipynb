{
 "cells": [
  {
   "cell_type": "markdown",
   "metadata": {},
   "source": [
    "# Numpy"
   ]
  },
  {
   "cell_type": "code",
   "execution_count": 11,
   "metadata": {},
   "outputs": [
    {
     "name": "stdout",
     "output_type": "stream",
     "text": [
      "[1, 2, 3, 1, 2, 3]\n",
      "[1, 'ett', True, 2.3]\n"
     ]
    }
   ],
   "source": [
    "numbers_list = [1,2,3]\n",
    "numbers_list = numbers_list*2\n",
    "print(numbers_list)\n",
    "\n",
    "# in a list we can place different data types \n",
    "mixed_list = [1, \"ett\", True, 2.3] # dynamic typing in Python\n",
    "# element in the list is an object, it has information on what type it is \n",
    "# this requires some overhead, which slows down the program \n",
    "# note that when we have one data type, it is unnecessary to have this overhead\n",
    "print(mixed_list)"
   ]
  },
  {
   "cell_type": "code",
   "execution_count": 29,
   "metadata": {},
   "outputs": [
    {
     "name": "stdout",
     "output_type": "stream",
     "text": [
      "[2 5 1]\n",
      "[ 4 10  2]\n",
      "vector1+2=array([4, 7, 3])\n",
      "vector1[2]=1\n",
      "vector1[-1]=1\n",
      "vector1[1:]=array([5, 1])\n",
      "[   2 1337    1]\n",
      "vector1=array([   1,    2, 1337])\n",
      "vector1.sum()=1340\n",
      "vector1.mean()=446.67\n"
     ]
    }
   ],
   "source": [
    "# in numpy we have statically typed \n",
    "import numpy as np \n",
    "\n",
    "# create an array from a list\n",
    "vector1 = np.array([2,5,1])\n",
    "print(vector1)\n",
    "\n",
    "# elementwise multiplication\n",
    "vector2 = vector1*2\n",
    "print(vector2)\n",
    "\n",
    "print(f\"{vector1+2=}\")\n",
    "\n",
    "# indexing\n",
    "print(f\"{vector1[2]=}\")\n",
    "print(f\"{vector1[-1]=}\")\n",
    "# slicing\n",
    "print(f\"{vector1[1:]=}\")\n",
    "\n",
    "vector1[1] = 1337\n",
    "print(vector1)\n",
    "\n",
    "# can't append to an array - can't change its size\n",
    "# can't have different types in an array\n",
    "\n",
    "# sort\n",
    "vector1.sort()\n",
    "print(f\"{vector1=}\")\n",
    "\n",
    "# sum\n",
    "print(f\"{vector1.sum()=}\")\n",
    "print(f\"{vector1.mean()=:.2f}\")"
   ]
  },
  {
   "cell_type": "code",
   "execution_count": 36,
   "metadata": {},
   "outputs": [
    {
     "name": "stdout",
     "output_type": "stream",
     "text": [
      "ones_vector=array([1., 1., 1., 1., 1., 1., 1., 1., 1., 1.])\n",
      "matrix_3x3=array([[1., 1., 1.],\n",
      "       [1., 1., 1.],\n",
      "       [1., 1., 1.]])\n"
     ]
    },
    {
     "data": {
      "text/plain": [
       "array([[ 1.,  1.,  1.],\n",
       "       [ 1.,  1.,  1.],\n",
       "       [ 1., 10.,  1.]])"
      ]
     },
     "execution_count": 36,
     "metadata": {},
     "output_type": "execute_result"
    }
   ],
   "source": [
    "ones_vector = np.ones(10)\n",
    "print(f\"{ones_vector=}\")\n",
    "\n",
    "# 2d array of shape (3,3)\n",
    "matrix_3x3 = np.ones((3,3))\n",
    "\n",
    "print(f\"{matrix_3x3=}\")\n",
    "\n",
    "# [row, index] - counts from 0\n",
    "matrix_3x3[2,1] = 10\n",
    "\n",
    "matrix_3x3"
   ]
  },
  {
   "cell_type": "code",
   "execution_count": 38,
   "metadata": {},
   "outputs": [
    {
     "data": {
      "text/plain": [
       "array([[0., 0., 0., 0., 0.],\n",
       "       [0., 0., 0., 0., 0.]])"
      ]
     },
     "execution_count": 38,
     "metadata": {},
     "output_type": "execute_result"
    }
   ],
   "source": [
    "np.zeros([2,5]) # shapelike - takes in a tuple or a list\n"
   ]
  },
  {
   "cell_type": "code",
   "execution_count": 44,
   "metadata": {},
   "outputs": [
    {
     "name": "stdout",
     "output_type": "stream",
     "text": [
      "(3, 3)\n",
      "matrix_3x3[2,:]=array([ 1., 10.,  1.])\n",
      "matrix_3x3[:,1]=array([ 1.,  1., 10.])\n"
     ]
    },
    {
     "data": {
      "text/plain": [
       "array([ 2., 11., 11.])"
      ]
     },
     "execution_count": 44,
     "metadata": {},
     "output_type": "execute_result"
    }
   ],
   "source": [
    "print(matrix_3x3.shape)\n",
    "\n",
    "# slicing operator to get a row\n",
    "print(f\"{matrix_3x3[2,:]=}\")\n",
    "\n",
    "# slicing operator to get a column\n",
    "print(f\"{matrix_3x3[:,1]=}\")\n",
    "\n",
    "# add 2 vectors\n",
    "matrix_3x3[2,:] + matrix_3x3[:,1]"
   ]
  }
 ],
 "metadata": {
  "kernelspec": {
   "display_name": "Python 3.9.6 ('Python-course-AI22-FPwBLMbm')",
   "language": "python",
   "name": "python3"
  },
  "language_info": {
   "codemirror_mode": {
    "name": "ipython",
    "version": 3
   },
   "file_extension": ".py",
   "mimetype": "text/x-python",
   "name": "python",
   "nbconvert_exporter": "python",
   "pygments_lexer": "ipython3",
   "version": "3.9.6"
  },
  "orig_nbformat": 4,
  "vscode": {
   "interpreter": {
    "hash": "3b136723b0d4708e16bf623335cc8688085bd3f1313316a001291a7f1d2024db"
   }
  }
 },
 "nbformat": 4,
 "nbformat_minor": 2
}
