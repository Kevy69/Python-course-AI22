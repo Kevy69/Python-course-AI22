{
 "cells": [
  {
   "cell_type": "markdown",
   "metadata": {},
   "source": [
    "# if-statements\n",
    "\n",
    "## if-else"
   ]
  },
  {
   "cell_type": "code",
   "execution_count": 6,
   "metadata": {},
   "outputs": [
    {
     "name": "stdout",
     "output_type": "stream",
     "text": [
      "Du är 16 år gammal, gränsen är 18\n",
      "Du får inte gå in i puben\n"
     ]
    }
   ],
   "source": [
    "age = int(input(\"Hur gammal är du?\"))\n",
    "\n",
    "if age < 18:\n",
    "    print(f\"Du är {age} år gammal, gränsen är 18\")\n",
    "    print(\"Du får inte gå in i puben\")\n",
    "else:\n",
    "    print(\"Välkommen in\")"
   ]
  },
  {
   "cell_type": "code",
   "execution_count": 7,
   "metadata": {},
   "outputs": [
    {
     "name": "stdout",
     "output_type": "stream",
     "text": [
      "Du får åka balder\n"
     ]
    }
   ],
   "source": [
    "age = 15\n",
    "height = 135\n",
    "\n",
    "if age > 10 and height > 130:\n",
    "    print(\"Du får åka balder\")\n",
    "else:\n",
    "    print(\"Du får inte åka balder\")"
   ]
  },
  {
   "cell_type": "code",
   "execution_count": 13,
   "metadata": {},
   "outputs": [
    {
     "name": "stdout",
     "output_type": "stream",
     "text": [
      "Du får åka balder\n"
     ]
    }
   ],
   "source": [
    "age = 15\n",
    "height = 210\n",
    "\n",
    "if age > 10 and 130 < height <= 210:\n",
    "    print(\"Du får åka balder\")\n",
    "else:\n",
    "    print(\"Du får inte åka balder\")"
   ]
  },
  {
   "cell_type": "markdown",
   "metadata": {},
   "source": [
    "### Modulo operator %"
   ]
  },
  {
   "cell_type": "code",
   "execution_count": 18,
   "metadata": {},
   "outputs": [
    {
     "name": "stdout",
     "output_type": "stream",
     "text": [
      "jämnt tal\n"
     ]
    }
   ],
   "source": [
    "number = 42\n",
    "\n",
    "# 2 equal signs => checks if left is equal to right\n",
    "if number % 2 == 0:\n",
    "    print(\"jämnt tal\")\n"
   ]
  },
  {
   "cell_type": "code",
   "execution_count": 29,
   "metadata": {},
   "outputs": [
    {
     "name": "stdout",
     "output_type": "stream",
     "text": [
      "3==4: False\n",
      "3==3: True\n",
      "3>=3: True\n",
      "3!=3: False\n"
     ]
    }
   ],
   "source": [
    "print(f\"3==4: {3 == 4}\")\n",
    "print(f\"3==3: {3 == 3}\")\n",
    "print(f\"3>=3: {3 >= 3}\")\n",
    "print(f\"3!=3: {3 != 3}\")"
   ]
  }
 ],
 "metadata": {
  "kernelspec": {
   "display_name": "Python 3.9.6 ('Python-course-AI22-FPwBLMbm')",
   "language": "python",
   "name": "python3"
  },
  "language_info": {
   "codemirror_mode": {
    "name": "ipython",
    "version": 3
   },
   "file_extension": ".py",
   "mimetype": "text/x-python",
   "name": "python",
   "nbconvert_exporter": "python",
   "pygments_lexer": "ipython3",
   "version": "3.9.6"
  },
  "orig_nbformat": 4,
  "vscode": {
   "interpreter": {
    "hash": "3b136723b0d4708e16bf623335cc8688085bd3f1313316a001291a7f1d2024db"
   }
  }
 },
 "nbformat": 4,
 "nbformat_minor": 2
}
